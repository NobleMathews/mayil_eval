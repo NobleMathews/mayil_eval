{
 "cells": [
  {
   "cell_type": "code",
   "execution_count": null,
   "metadata": {},
   "outputs": [],
   "source": [
    "# percentage\n",
    "# fetches_modified_files\n",
    "# fetches modified snippets (contained)\n",
    "# recommended files are modified\n",
    "# recommended snippets are modified\n",
    "\n",
    "# AI based\n",
    "# RAG Triads\n",
    "# Grader 0-10 based on real changes (bouncer like)\n",
    "\n",
    "import json\n",
    "\n",
    "with open(\"./data/test.json\", \"r\") as f:\n",
    "    ground_truth = json.load(f)\n",
    "\n",
    "for issue_details in ground_truth:\n",
    "    with open(f\"./data/v1/{issue_details[\"instance_id\"]}.json\", \"r\") as f:\n",
    "        generated_details = json.load(f)\n",
    "    ground_truth_diff = issue_details[\"patch\"]\n",
    "    # parse diff\n",
    "    from git import Diff\n",
    "    diff = Diff()"
   ]
  }
 ],
 "metadata": {
  "kernelspec": {
   "display_name": "mayil_ai",
   "language": "python",
   "name": "python3"
  },
  "language_info": {
   "name": "python",
   "version": "3.10.13"
  }
 },
 "nbformat": 4,
 "nbformat_minor": 2
}
